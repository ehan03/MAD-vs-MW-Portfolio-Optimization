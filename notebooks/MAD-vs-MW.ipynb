{
 "cells": [
  {
   "cell_type": "code",
   "execution_count": 1,
   "metadata": {},
   "outputs": [],
   "source": [
    "# standard library imports\n",
    "import sys\n",
    "sys.path.append(\"../\")\n",
    "\n",
    "# third party imports\n",
    "import matplotlib.pyplot as plt\n",
    "import numpy as np\n",
    "import pandas as pd\n",
    "\n",
    "# local imports\n",
    "from src.data_generator import DataGenerator\n",
    "from src.models import MADModel, MarkowitzModel"
   ]
  },
  {
   "cell_type": "markdown",
   "metadata": {},
   "source": [
    "# Downloading and Loading the Data"
   ]
  },
  {
   "cell_type": "code",
   "execution_count": null,
   "metadata": {},
   "outputs": [],
   "source": [
    "# Create dataset\n",
    "data_generator = DataGenerator()\n",
    "# data_generator()"
   ]
  },
  {
   "cell_type": "markdown",
   "metadata": {},
   "source": [
    "No need to create the dataset again as it has already been generated and made available in the repository."
   ]
  },
  {
   "cell_type": "code",
   "execution_count": 2,
   "metadata": {},
   "outputs": [],
   "source": [
    "df = pd.read_csv(\"../data/nasdaq_adj_closing_prices.csv\", index_col=\"Date\")\n",
    "df.index = pd.to_datetime(df.index)"
   ]
  },
  {
   "cell_type": "code",
   "execution_count": 9,
   "metadata": {},
   "outputs": [],
   "source": [
    "past_5_years = df.loc[\"2018-01-01\":\"2023-11-01\"]\n",
    "past_5_years = past_5_years.dropna(axis=1)\n",
    "past_5_years = past_5_years.sample(30, axis=1)"
   ]
  },
  {
   "cell_type": "code",
   "execution_count": 10,
   "metadata": {},
   "outputs": [
    {
     "data": {
      "text/plain": [
       "array([-4.10458675e-13, -3.18546007e-13,  6.82948751e-13, -3.43787445e-13,\n",
       "        2.84495564e-13, -3.06900287e-13,  6.89109575e-01, -3.50931132e-13,\n",
       "        1.74343083e-01,  1.90449585e-11, -2.60237122e-13, -2.71448749e-13,\n",
       "       -2.40491142e-13,  2.01913156e-11,  2.05463289e-12, -3.22651966e-13,\n",
       "       -1.86621801e-13,  4.78272723e-13,  1.26992982e-12, -5.65673389e-14,\n",
       "       -3.32305852e-13, -5.20630917e-13, -2.33021904e-13, -1.32585951e-13,\n",
       "        1.67046402e-13,  2.90520448e-13, -2.09597483e-13, -1.29249295e-13,\n",
       "        1.76979506e-13,  1.36547343e-01])"
      ]
     },
     "execution_count": 10,
     "metadata": {},
     "output_type": "execute_result"
    }
   ],
   "source": [
    "mad_model = MADModel(past_5_years, 0.05, \"2021-01-01\")\n",
    "w = mad_model()\n",
    "\n",
    "w"
   ]
  },
  {
   "cell_type": "code",
   "execution_count": 11,
   "metadata": {},
   "outputs": [
    {
     "name": "stdout",
     "output_type": "stream",
     "text": [
      "Minimum eigenvalue: 0.022087659363357735\n"
     ]
    },
    {
     "data": {
      "text/plain": [
       "array([-1.11010871e-23, -2.14569735e-23, -1.78532470e-23, -1.14474292e-24,\n",
       "       -2.06269011e-23,  4.96422664e-24,  7.05459024e-01, -5.61120928e-24,\n",
       "        1.64761847e-01, -5.63174396e-24, -9.30940091e-25,  2.40891210e-24,\n",
       "       -3.06713559e-24,  1.44736126e-23,  1.22034456e-23, -2.78843665e-24,\n",
       "       -2.42465077e-23,  3.28163888e-24, -1.05380125e-23,  7.47444134e-24,\n",
       "        2.51976482e-23, -9.64176750e-24, -2.79004175e-24, -1.80015161e-24,\n",
       "        1.02568685e-23, -1.24039212e-24, -3.53492430e-24, -6.76738007e-25,\n",
       "        8.82431093e-24,  1.29779129e-01])"
      ]
     },
     "execution_count": 11,
     "metadata": {},
     "output_type": "execute_result"
    }
   ],
   "source": [
    "mw_model = MarkowitzModel(past_5_years, 0.05, \"2021-01-01\")\n",
    "w = mw_model()\n",
    "\n",
    "w"
   ]
  },
  {
   "cell_type": "code",
   "execution_count": 12,
   "metadata": {},
   "outputs": [
    {
     "data": {
      "text/plain": [
       "array([-2.99646174e-12, -2.54674160e-12, -3.15197839e-12, -2.19115520e-12,\n",
       "       -4.13072481e-12, -4.70205484e-13,  7.05459124e-01, -1.57004121e-12,\n",
       "        1.64761824e-01, -1.31280666e-12, -8.78933867e-13,  9.26618695e-13,\n",
       "       -1.72497394e-12,  7.56787369e-13,  1.28614956e-12, -2.90474101e-12,\n",
       "       -4.26841018e-12, -8.57359758e-14, -4.37384349e-13, -1.26433740e-13,\n",
       "        9.48445625e-13, -4.69037015e-12, -1.25934647e-12,  1.86632958e-13,\n",
       "        7.98629998e-14, -1.80488775e-12, -8.49446278e-13, -1.26332036e-12,\n",
       "        1.28171196e-12,  1.29779052e-01])"
      ]
     },
     "execution_count": 12,
     "metadata": {},
     "output_type": "execute_result"
    }
   ],
   "source": [
    "mw_model = MarkowitzModel(past_5_years, 0.05, \"2021-01-01\", use_covariance=False)\n",
    "w = mw_model()\n",
    "\n",
    "w"
   ]
  }
 ],
 "metadata": {
  "kernelspec": {
   "display_name": "stats631",
   "language": "python",
   "name": "python3"
  },
  "language_info": {
   "codemirror_mode": {
    "name": "ipython",
    "version": 3
   },
   "file_extension": ".py",
   "mimetype": "text/x-python",
   "name": "python",
   "nbconvert_exporter": "python",
   "pygments_lexer": "ipython3",
   "version": "3.10.12"
  }
 },
 "nbformat": 4,
 "nbformat_minor": 2
}
