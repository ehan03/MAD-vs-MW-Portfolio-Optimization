{
 "cells": [
  {
   "cell_type": "code",
   "execution_count": null,
   "metadata": {},
   "outputs": [],
   "source": [
    "# standard library imports\n",
    "import sys\n",
    "sys.path.append(\"../\")\n",
    "\n",
    "from src.empirical_results.efficient_frontier import EfficientFrontier\n",
    "from src.empirical_results.computation_time import ComputationTime\n",
    "from src.utils import simulate_returns\n",
    "from src.models import MarkowitzModel, MADModel\n",
    "\n",
    "import numpy as np"
   ]
  },
  {
   "cell_type": "code",
   "execution_count": null,
   "metadata": {},
   "outputs": [],
   "source": [
    "df = simulate_returns(distribution=\"lognormal\", n_assets=50, n_obs=1000)\n",
    "ef = EfficientFrontier()\n",
    "\n",
    "# ef.draw_efficient_frontier(df, \"markowitz\")\n",
    "# ef.draw_efficient_frontier(df, \"mad\")\n",
    "ef.compare_efficient_frontiers(df)"
   ]
  },
  {
   "cell_type": "code",
   "execution_count": null,
   "metadata": {},
   "outputs": [],
   "source": [
    "ct = ComputationTime()\n",
    "# ct.test_num_assets()\n",
    "ct.test_num_obs()"
   ]
  }
 ],
 "metadata": {
  "kernelspec": {
   "display_name": "stats631",
   "language": "python",
   "name": "python3"
  },
  "language_info": {
   "codemirror_mode": {
    "name": "ipython",
    "version": 3
   },
   "file_extension": ".py",
   "mimetype": "text/x-python",
   "name": "python",
   "nbconvert_exporter": "python",
   "pygments_lexer": "ipython3",
   "version": "3.10.12"
  }
 },
 "nbformat": 4,
 "nbformat_minor": 2
}
